{
    "cells": [
        {
            "cell_type": "markdown",
            "metadata": {},
            "source": [
                "### Lab-3 : Self-Practice\n",
                "\n",
                "#### In this week, your self-practice task will consist to analyze the impact of class imballance on the performance of the logistic regression model.\n",
                "\n",
                "#### Class imbalance is very common in real life. For example, in a classification problem to predict whether a person has a certain very rare disease, the dataset will always contain more negative samples than positive ones. This situation can have a significant impact on the performance of the model. You will analyze this situation in the case of the Titanic dataset used in the lab."
            ]
        },
        {
            "cell_type": "markdown",
            "metadata": {},
            "source": [
                "### 1. Load the titanic dataset and <b>PLOT</b> the proportion of positive and negative samples (survived vs non survived)"
            ]
        },
        {
            "cell_type": "code",
            "execution_count": 30,
            "metadata": {},
            "outputs": [
                {
                    "data": {
                        "text/plain": [
                            "<AxesSubplot:title={'center':'Percentage of survive %'}, ylabel='survived'>"
                        ]
                    },
                    "execution_count": 30,
                    "metadata": {},
                    "output_type": "execute_result"
                },
                {
                    "data": {
                        "image/png": "[encoded data removed]",
                        "text/plain": [
                            "<Figure size 640x480 with 1 Axes>"
                        ]
                    },
                    "metadata": {},
                    "output_type": "display_data"
                }
            ],
            "source": [
                "### write your code here. Load the dataset and plot (barplot) proportion of each class \n",
                "import numpy as np\n",
                "import matplotlib.pyplot as plt\n",
                "%matplotlib inline \n",
                "import pandas as pd\n",
                "\n",
                "df = pd.read_csv('titanic.csv')\n",
                "copy_df = df['survived'].value_counts().copy()\n",
                "copy_df.index = ['non survived','survived']\n",
                "copy_df.plot(kind='pie',title=\"Percentage of survive %\",legend=False, autopct='%.f')\n"
            ]
        },
        {
            "cell_type": "markdown",
            "metadata": {},
            "source": [
                "#### Preprocess the data as it has been done in the lab, feel free to adapt"
            ]
        },
        {
            "cell_type": "code",
            "execution_count": 31,
            "metadata": {},
            "outputs": [
                {
                    "name": "stderr",
                    "output_type": "stream",
                    "text": [
                        "c:\\Python310\\lib\\site-packages\\sklearn\\utils\\deprecation.py:87: FutureWarning: Function get_feature_names is deprecated; get_feature_names is deprecated in 1.0 and will be removed in 1.2. Please use get_feature_names_out instead.\n",
                        "  warnings.warn(msg, category=FutureWarning)\n",
                        "c:\\Python310\\lib\\site-packages\\sklearn\\utils\\deprecation.py:87: FutureWarning: Function get_feature_names is deprecated; get_feature_names is deprecated in 1.0 and will be removed in 1.2. Please use get_feature_names_out instead.\n",
                        "  warnings.warn(msg, category=FutureWarning)\n"
                    ]
                },
                {
                    "data": {
                        "text/html": [
                            "<div>\n",
                            "<style scoped>\n",
                            "    .dataframe tbody tr th:only-of-type {\n",
                            "        vertical-align: middle;\n",
                            "    }\n",
                            "\n",
                            "    .dataframe tbody tr th {\n",
                            "        vertical-align: top;\n",
                            "    }\n",
                            "\n",
                            "    .dataframe thead th {\n",
                            "        text-align: right;\n",
                            "    }\n",
                            "</style>\n",
                            "<table border=\"1\" class=\"dataframe\">\n",
                            "  <thead>\n",
                            "    <tr style=\"text-align: right;\">\n",
                            "      <th></th>\n",
                            "      <th>pclass</th>\n",
                            "      <th>age</th>\n",
                            "      <th>sibsp</th>\n",
                            "      <th>parch</th>\n",
                            "      <th>fare</th>\n",
                            "      <th>sex_male</th>\n",
                            "      <th>embarked_Q</th>\n",
                            "      <th>embarked_S</th>\n",
                            "    </tr>\n",
                            "  </thead>\n",
                            "  <tbody>\n",
                            "    <tr>\n",
                            "      <th>0</th>\n",
                            "      <td>0.0</td>\n",
                            "      <td>0.336089</td>\n",
                            "      <td>0.125</td>\n",
                            "      <td>0.000000</td>\n",
                            "      <td>0.103644</td>\n",
                            "      <td>1.0</td>\n",
                            "      <td>0.0</td>\n",
                            "      <td>1.0</td>\n",
                            "    </tr>\n",
                            "    <tr>\n",
                            "      <th>1</th>\n",
                            "      <td>1.0</td>\n",
                            "      <td>0.498935</td>\n",
                            "      <td>0.125</td>\n",
                            "      <td>0.666667</td>\n",
                            "      <td>0.091543</td>\n",
                            "      <td>1.0</td>\n",
                            "      <td>0.0</td>\n",
                            "      <td>1.0</td>\n",
                            "    </tr>\n",
                            "    <tr>\n",
                            "      <th>2</th>\n",
                            "      <td>1.0</td>\n",
                            "      <td>0.304773</td>\n",
                            "      <td>0.000</td>\n",
                            "      <td>0.000000</td>\n",
                            "      <td>0.015713</td>\n",
                            "      <td>1.0</td>\n",
                            "      <td>0.0</td>\n",
                            "      <td>1.0</td>\n",
                            "    </tr>\n",
                            "    <tr>\n",
                            "      <th>3</th>\n",
                            "      <td>0.0</td>\n",
                            "      <td>0.298509</td>\n",
                            "      <td>0.000</td>\n",
                            "      <td>0.000000</td>\n",
                            "      <td>0.060508</td>\n",
                            "      <td>1.0</td>\n",
                            "      <td>0.0</td>\n",
                            "      <td>1.0</td>\n",
                            "    </tr>\n",
                            "    <tr>\n",
                            "      <th>4</th>\n",
                            "      <td>1.0</td>\n",
                            "      <td>0.298509</td>\n",
                            "      <td>0.125</td>\n",
                            "      <td>0.000000</td>\n",
                            "      <td>0.030254</td>\n",
                            "      <td>1.0</td>\n",
                            "      <td>1.0</td>\n",
                            "      <td>0.0</td>\n",
                            "    </tr>\n",
                            "    <tr>\n",
                            "      <th>...</th>\n",
                            "      <td>...</td>\n",
                            "      <td>...</td>\n",
                            "      <td>...</td>\n",
                            "      <td>...</td>\n",
                            "      <td>...</td>\n",
                            "      <td>...</td>\n",
                            "      <td>...</td>\n",
                            "      <td>...</td>\n",
                            "    </tr>\n",
                            "    <tr>\n",
                            "      <th>1042</th>\n",
                            "      <td>1.0</td>\n",
                            "      <td>0.298509</td>\n",
                            "      <td>0.000</td>\n",
                            "      <td>0.000000</td>\n",
                            "      <td>0.015412</td>\n",
                            "      <td>1.0</td>\n",
                            "      <td>0.0</td>\n",
                            "      <td>1.0</td>\n",
                            "    </tr>\n",
                            "    <tr>\n",
                            "      <th>1043</th>\n",
                            "      <td>1.0</td>\n",
                            "      <td>0.336089</td>\n",
                            "      <td>0.000</td>\n",
                            "      <td>0.000000</td>\n",
                            "      <td>0.016908</td>\n",
                            "      <td>1.0</td>\n",
                            "      <td>0.0</td>\n",
                            "      <td>1.0</td>\n",
                            "    </tr>\n",
                            "    <tr>\n",
                            "      <th>1044</th>\n",
                            "      <td>0.5</td>\n",
                            "      <td>0.824627</td>\n",
                            "      <td>0.000</td>\n",
                            "      <td>0.000000</td>\n",
                            "      <td>0.020495</td>\n",
                            "      <td>1.0</td>\n",
                            "      <td>0.0</td>\n",
                            "      <td>1.0</td>\n",
                            "    </tr>\n",
                            "    <tr>\n",
                            "      <th>1045</th>\n",
                            "      <td>0.0</td>\n",
                            "      <td>0.223350</td>\n",
                            "      <td>0.000</td>\n",
                            "      <td>0.222222</td>\n",
                            "      <td>0.155466</td>\n",
                            "      <td>0.0</td>\n",
                            "      <td>0.0</td>\n",
                            "      <td>1.0</td>\n",
                            "    </tr>\n",
                            "    <tr>\n",
                            "      <th>1046</th>\n",
                            "      <td>1.0</td>\n",
                            "      <td>0.298509</td>\n",
                            "      <td>0.000</td>\n",
                            "      <td>0.000000</td>\n",
                            "      <td>0.014102</td>\n",
                            "      <td>1.0</td>\n",
                            "      <td>0.0</td>\n",
                            "      <td>0.0</td>\n",
                            "    </tr>\n",
                            "  </tbody>\n",
                            "</table>\n",
                            "<p>1047 rows × 8 columns</p>\n",
                            "</div>"
                        ],
                        "text/plain": [
                            "      pclass       age  sibsp     parch      fare  sex_male  embarked_Q  \\\n",
                            "0        0.0  0.336089  0.125  0.000000  0.103644       1.0         0.0   \n",
                            "1        1.0  0.498935  0.125  0.666667  0.091543       1.0         0.0   \n",
                            "2        1.0  0.304773  0.000  0.000000  0.015713       1.0         0.0   \n",
                            "3        0.0  0.298509  0.000  0.000000  0.060508       1.0         0.0   \n",
                            "4        1.0  0.298509  0.125  0.000000  0.030254       1.0         1.0   \n",
                            "...      ...       ...    ...       ...       ...       ...         ...   \n",
                            "1042     1.0  0.298509  0.000  0.000000  0.015412       1.0         0.0   \n",
                            "1043     1.0  0.336089  0.000  0.000000  0.016908       1.0         0.0   \n",
                            "1044     0.5  0.824627  0.000  0.000000  0.020495       1.0         0.0   \n",
                            "1045     0.0  0.223350  0.000  0.222222  0.155466       0.0         0.0   \n",
                            "1046     1.0  0.298509  0.000  0.000000  0.014102       1.0         0.0   \n",
                            "\n",
                            "      embarked_S  \n",
                            "0            1.0  \n",
                            "1            1.0  \n",
                            "2            1.0  \n",
                            "3            1.0  \n",
                            "4            0.0  \n",
                            "...          ...  \n",
                            "1042         1.0  \n",
                            "1043         1.0  \n",
                            "1044         1.0  \n",
                            "1045         1.0  \n",
                            "1046         0.0  \n",
                            "\n",
                            "[1047 rows x 8 columns]"
                        ]
                    },
                    "execution_count": 31,
                    "metadata": {},
                    "output_type": "execute_result"
                }
            ],
            "source": [
                "from sklearn.impute import SimpleImputer\n",
                "from sklearn.preprocessing import OneHotEncoder\n",
                "from sklearn.preprocessing import MinMaxScaler\n",
                "from sklearn.model_selection import train_test_split\n",
                "\n",
                "# removing name column\n",
                "df = df.drop(['name'], axis = 1)\n",
                "\n",
                "# create test and train variables\n",
                "x_train, x_test, y_train, y_test = train_test_split(df.loc[:, 'pclass':], df['survived'],\n",
                "                                                    test_size=0.2, stratify=df['survived'])\n",
                "\n",
                "# imputing missing values\n",
                "imputer = SimpleImputer(strategy='most_frequent')\n",
                "imputer.fit(x_train)\n",
                "x_train = pd.DataFrame(imputer.transform(x_train), columns=x_train.columns)\n",
                "x_test = pd.DataFrame(imputer.transform(x_test), columns=x_test.columns)\n",
                "\n",
                "# one-hot-encode categorical features\n",
                "def ohe_new_features(df, features_name, encoder):\n",
                "    new_feats = encoder.transform(df[features_name])\n",
                "    # create dataframe from encoded features with named columns\n",
                "    new_cols = pd.DataFrame(new_feats, dtype=int, columns=encoder.get_feature_names(features_name))\n",
                "    new_df = pd.concat([df, new_cols], axis=1)    \n",
                "    new_df.drop(features_name, axis=1, inplace=True)\n",
                "    return new_df\n",
                "\n",
                "encoder = OneHotEncoder(sparse=False, drop='first')\n",
                "f_names = ['sex', 'embarked']\n",
                "encoder.fit(x_train[f_names])\n",
                "x_train = ohe_new_features(x_train, f_names, encoder)\n",
                "x_test = ohe_new_features(x_test, f_names, encoder)\n",
                "\n",
                "# feature scaling\n",
                "scaler = MinMaxScaler()\n",
                "scaler.fit(x_train)\n",
                "x_train = pd.DataFrame(scaler.transform(x_train), columns=x_train.columns)\n",
                "x_test = pd.DataFrame(scaler.transform(x_test), columns=x_test.columns)\n",
                "\n",
                "x_train"
            ]
        },
        {
            "cell_type": "markdown",
            "metadata": {},
            "source": [
                "## 2. Impact of class imballance. \n",
                "##### Now, you will `artificially` imbalance the dataset. From the original dataset, create different dataset with the following class representations (drop samples from one class): \n",
                "##### 1. 20% vs 80%\n",
                "##### 2. 30% vs 70%\n",
                "##### 3. 40% vs 60%\n",
                "\n",
                "## Split each data into train and test set as in the lab; train logistic regression model for each setting and report (PLOT) the accuracy, precision, and recall of each model"
            ]
        },
        {
            "cell_type": "code",
            "execution_count": null,
            "metadata": {},
            "outputs": [],
            "source": [
                "### write your code here "
            ]
        },
        {
            "cell_type": "markdown",
            "metadata": {},
            "source": [
                "## 3. Analyse the class-wise accuracy. \n",
                "#### For each model, plot (bar plots) the class-wise accuracy, i.e., the accuracy for each class."
            ]
        },
        {
            "cell_type": "code",
            "execution_count": 3,
            "metadata": {},
            "outputs": [],
            "source": [
                "#### write your code "
            ]
        },
        {
            "cell_type": "markdown",
            "metadata": {},
            "source": [
                "## 4. Report \n",
                "### Write a small report (few sentences) to discuss from your analysis, the impact of class imballance on logistic model's performance "
            ]
        },
        {
            "cell_type": "markdown",
            "metadata": {},
            "source": [
                "`Write your report here`"
            ]
        }
    ],
    "metadata": {
        "kernelspec": {
            "display_name": "Python 3.10.2 64-bit",
            "language": "python",
            "name": "python3"
        },
        "language_info": {
            "codemirror_mode": {
                "name": "ipython",
                "version": 3
            },
            "file_extension": ".py",
            "mimetype": "text/x-python",
            "name": "python",
            "nbconvert_exporter": "python",
            "pygments_lexer": "ipython3",
            "version": "3.10.2"
        },
        "orig_nbformat": 4,
        "vscode": {
            "interpreter": {
                "hash": "369f2c481f4da34e4445cda3fffd2e751bd1c4d706f27375911949ba6bb62e1c"
            }
        }
    },
    "nbformat": 4,
    "nbformat_minor": 2
}
